{
  "nbformat": 4,
  "nbformat_minor": 0,
  "metadata": {
    "colab": {
      "name": "Tanks.ipynb",
      "provenance": [],
      "include_colab_link": true
    },
    "kernelspec": {
      "name": "python3",
      "display_name": "Python 3"
    }
  },
  "cells": [
    {
      "cell_type": "markdown",
      "metadata": {
        "id": "view-in-github",
        "colab_type": "text"
      },
      "source": [
        "<a href=\"https://colab.research.google.com/github/Lakshmikantha-nr/PhD/blob/master/Tanks.ipynb\" target=\"_parent\"><img src=\"https://colab.research.google.com/assets/colab-badge.svg\" alt=\"Open In Colab\"/></a>"
      ]
    },
    {
      "cell_type": "code",
      "metadata": {
        "id": "gG9otAFeZDQs",
        "colab_type": "code",
        "colab": {}
      },
      "source": [
        "!pip install earthengine-api"
      ],
      "execution_count": 0,
      "outputs": []
    },
    {
      "cell_type": "code",
      "metadata": {
        "id": "KDV937aiZtZ_",
        "colab_type": "code",
        "colab": {}
      },
      "source": [
        "import ee"
      ],
      "execution_count": 0,
      "outputs": []
    },
    {
      "cell_type": "code",
      "metadata": {
        "id": "_ge-MalpZ4kg",
        "colab_type": "code",
        "colab": {}
      },
      "source": [
        "ee.Authenticate()"
      ],
      "execution_count": 0,
      "outputs": []
    },
    {
      "cell_type": "code",
      "metadata": {
        "id": "YJe7PThFZ7ci",
        "colab_type": "code",
        "colab": {}
      },
      "source": [
        "ee.Initialize()"
      ],
      "execution_count": 0,
      "outputs": []
    },
    {
      "cell_type": "code",
      "metadata": {
        "id": "I5ORAYbhh6Q-",
        "colab_type": "code",
        "colab": {}
      },
      "source": [
        "from google.colab import files\n",
        "uploaded = files.upload()"
      ],
      "execution_count": 0,
      "outputs": []
    },
    {
      "cell_type": "code",
      "metadata": {
        "id": "h0KmMKK7i7DV",
        "colab_type": "code",
        "colab": {}
      },
      "source": [
        "!pip install pandas"
      ],
      "execution_count": 0,
      "outputs": []
    },
    {
      "cell_type": "code",
      "metadata": {
        "id": "lcMjuJLHkqUe",
        "colab_type": "code",
        "colab": {}
      },
      "source": [
        "\n",
        "!pip install geopandas"
      ],
      "execution_count": 0,
      "outputs": []
    },
    {
      "cell_type": "code",
      "metadata": {
        "id": "wjGBXTK1lfie",
        "colab_type": "code",
        "colab": {}
      },
      "source": [
        "!pip install numpy"
      ],
      "execution_count": 0,
      "outputs": []
    },
    {
      "cell_type": "code",
      "metadata": {
        "id": "5I_LqNFnlnoT",
        "colab_type": "code",
        "colab": {}
      },
      "source": [
        "!pip install matplotlib"
      ],
      "execution_count": 0,
      "outputs": []
    },
    {
      "cell_type": "code",
      "metadata": {
        "id": "4IJLaq-1ltFg",
        "colab_type": "code",
        "colab": {}
      },
      "source": [
        "import geopandas as gpd\n",
        "import pandas as pd\n",
        "import numpy as np\n",
        "import matplotlib\n",
        "#from OpticalRS import *"
      ],
      "execution_count": 0,
      "outputs": []
    },
    {
      "cell_type": "code",
      "metadata": {
        "id": "kwL_uO1Tl6vt",
        "colab_type": "code",
        "colab": {}
      },
      "source": [
        "catchment_aralu=\"milli_aralumallige.shp\""
      ],
      "execution_count": 0,
      "outputs": []
    },
    {
      "cell_type": "code",
      "metadata": {
        "id": "V2QrVEvKm56W",
        "colab_type": "code",
        "colab": {}
      },
      "source": [
        "catchment=gpd.read_file(catchment_aralu)"
      ],
      "execution_count": 0,
      "outputs": []
    },
    {
      "cell_type": "code",
      "metadata": {
        "id": "mqgDy4ELnKdC",
        "colab_type": "code",
        "colab": {}
      },
      "source": [
        "catchment.crs"
      ],
      "execution_count": 0,
      "outputs": []
    },
    {
      "cell_type": "code",
      "metadata": {
        "id": "GUQacgcRoZ8q",
        "colab_type": "code",
        "colab": {}
      },
      "source": [
        "catchment=catchment.to_crs(epsg=3857)"
      ],
      "execution_count": 0,
      "outputs": []
    },
    {
      "cell_type": "code",
      "metadata": {
        "id": "mDG7Tv2vok9Q",
        "colab_type": "code",
        "colab": {}
      },
      "source": [
        "catchment.crs"
      ],
      "execution_count": 0,
      "outputs": []
    },
    {
      "cell_type": "code",
      "metadata": {
        "id": "Yh_Nk7qLonaI",
        "colab_type": "code",
        "colab": {}
      },
      "source": [
        "catchment=catchment.to_crs(epsg=4326)"
      ],
      "execution_count": 0,
      "outputs": []
    },
    {
      "cell_type": "code",
      "metadata": {
        "id": "zWS_1HWAosVb",
        "colab_type": "code",
        "colab": {}
      },
      "source": [
        "catchment.crs"
      ],
      "execution_count": 0,
      "outputs": []
    },
    {
      "cell_type": "code",
      "metadata": {
        "id": "od9OhqbyouEb",
        "colab_type": "code",
        "colab": {}
      },
      "source": [
        "catchment.head()"
      ],
      "execution_count": 0,
      "outputs": []
    },
    {
      "cell_type": "code",
      "metadata": {
        "id": "vCy6OeF4oy7k",
        "colab_type": "code",
        "colab": {}
      },
      "source": [
        "catchment.info()"
      ],
      "execution_count": 0,
      "outputs": []
    },
    {
      "cell_type": "code",
      "metadata": {
        "id": "4bdR1CD-ptPy",
        "colab_type": "code",
        "colab": {
          "base_uri": "https://localhost:8080/",
          "height": 282
        },
        "outputId": "19b892e0-dc92-43a0-ddef-6fda393b5f20"
      },
      "source": [
        "catchment.plot()"
      ],
      "execution_count": 35,
      "outputs": [
        {
          "output_type": "execute_result",
          "data": {
            "text/plain": [
              "<matplotlib.axes._subplots.AxesSubplot at 0x7f14bf4c92b0>"
            ]
          },
          "metadata": {
            "tags": []
          },
          "execution_count": 35
        },
        {
          "output_type": "display_data",
          "data": {
            "image/png": "[encoded data removed]",
            "text/plain": [
              "<Figure size 432x288 with 1 Axes>"
            ]
          },
          "metadata": {
            "tags": []
          }
        }
      ]
    },
    {
      "cell_type": "code",
      "metadata": {
        "id": "p9nC32-eqE2O",
        "colab_type": "code",
        "colab": {
          "base_uri": "https://localhost:8080/",
          "height": 150
        },
        "outputId": "5af724c8-2a53-4f8d-809a-d7725f020a3c"
      },
      "source": [
        "var Month = JRC_Monthly.filterDate('2018-12-01').mosaic().clipToCollection(Mettur_Reservoir).remap([2],[2]);"
      ],
      "execution_count": 36,
      "outputs": [
        {
          "output_type": "error",
          "ename": "SyntaxError",
          "evalue": "ignored",
          "traceback": [
            "\u001b[0;36m  File \u001b[0;32m\"<ipython-input-36-501643761b30>\"\u001b[0;36m, line \u001b[0;32m1\u001b[0m\n\u001b[0;31m    var Month = JRC_Monthly.filterDate('2018-12-01').mosaic().clipToCollection(Mettur_Reservoir).remap([2],[2]);\u001b[0m\n\u001b[0m            ^\u001b[0m\n\u001b[0;31mSyntaxError\u001b[0m\u001b[0;31m:\u001b[0m invalid syntax\n"
          ]
        }
      ]
    },
    {
      "cell_type": "code",
      "metadata": {
        "id": "CroGkvibs7AV",
        "colab_type": "code",
        "colab": {
          "base_uri": "https://localhost:8080/",
          "height": 343
        },
        "outputId": "ff2b79b2-b9b5-4f3a-bf1f-5dc6f230e3cb"
      },
      "source": [
        "!pip install Js2Py"
      ],
      "execution_count": 37,
      "outputs": [
        {
          "output_type": "stream",
          "text": [
            "Collecting Js2Py\n",
            "\u001b[?25l  Downloading https://files.pythonhosted.org/packages/25/2f/b184437870d15cdcc1cc52b73f1f7d6bb9ab2062d93c6a0b205ce8f323d3/Js2Py-0.66.tar.gz (973kB)\n",
            "\u001b[K     |████████████████████████████████| 983kB 2.6MB/s \n",
            "\u001b[?25hRequirement already satisfied: tzlocal>=1.2 in /usr/local/lib/python3.6/dist-packages (from Js2Py) (1.5.1)\n",
            "Requirement already satisfied: six>=1.10 in /usr/local/lib/python3.6/dist-packages (from Js2Py) (1.12.0)\n",
            "Collecting pyjsparser>=2.5.1\n",
            "  Downloading https://files.pythonhosted.org/packages/48/ef/c72abcfa2c6accd03e7c89c400790fc3d908c5804d50a7c4e9ceabd74d23/pyjsparser-2.7.1.tar.gz\n",
            "Requirement already satisfied: pytz in /usr/local/lib/python3.6/dist-packages (from tzlocal>=1.2->Js2Py) (2018.9)\n",
            "Building wheels for collected packages: Js2Py, pyjsparser\n",
            "  Building wheel for Js2Py (setup.py) ... \u001b[?25l\u001b[?25hdone\n",
            "  Created wheel for Js2Py: filename=Js2Py-0.66-cp36-none-any.whl size=1031281 sha256=9163788a8a0e466fd0ccce61f2c68f213bc97045f538c2ea30b4ed53938e6055\n",
            "  Stored in directory: /root/.cache/pip/wheels/d8/8d/3f/f8a103f421ae0ffe199aee63f2659bf62d23df22d9c620582b\n",
            "  Building wheel for pyjsparser (setup.py) ... \u001b[?25l\u001b[?25hdone\n",
            "  Created wheel for pyjsparser: filename=pyjsparser-2.7.1-cp36-none-any.whl size=26000 sha256=bfbb4789f529d74aff29a1610fa744616b0b9ade0ac6f81168e8f8bb75085530\n",
            "  Stored in directory: /root/.cache/pip/wheels/a2/73/e6/3e433f3fd78257c3f971baf8cc9001cc0c4797268c61751e89\n",
            "Successfully built Js2Py pyjsparser\n",
            "Installing collected packages: pyjsparser, Js2Py\n",
            "Successfully installed Js2Py-0.66 pyjsparser-2.7.1\n"
          ],
          "name": "stdout"
        }
      ]
    },
    {
      "cell_type": "code",
      "metadata": {
        "id": "m466jTBVxdK5",
        "colab_type": "code",
        "colab": {}
      },
      "source": [
        "JRC=ee.ImageCollection(\"JRC/GSW1_1/MonthlyHistory\")\n"
      ],
      "execution_count": 0,
      "outputs": []
    },
    {
      "cell_type": "code",
      "metadata": {
        "id": "3gedNA1azBPa",
        "colab_type": "code",
        "colab": {}
      },
      "source": [
        "import js2py"
      ],
      "execution_count": 0,
      "outputs": []
    },
    {
      "cell_type": "code",
      "metadata": {
        "id": "YSymUs63zYJc",
        "colab_type": "code",
        "colab": {
          "base_uri": "https://localhost:8080/",
          "height": 34
        },
        "outputId": "ca8f4657-ff17-41c5-e886-10298fadda11"
      },
      "source": [
        "JRC"
      ],
      "execution_count": 47,
      "outputs": [
        {
          "output_type": "execute_result",
          "data": {
            "text/plain": [
              "<ee.imagecollection.ImageCollection at 0x7f14bcc05828>"
            ]
          },
          "metadata": {
            "tags": []
          },
          "execution_count": 47
        }
      ]
    },
    {
      "cell_type": "code",
      "metadata": {
        "id": "5jfU75fm7vPr",
        "colab_type": "code",
        "colab": {}
      },
      "source": [
        ""
      ],
      "execution_count": 0,
      "outputs": []
    }
  ]
}